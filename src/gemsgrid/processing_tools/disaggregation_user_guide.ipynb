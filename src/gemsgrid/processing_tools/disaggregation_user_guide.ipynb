{
 "cells": [
  {
   "cell_type": "markdown",
   "id": "d8f5c899-9afc-488a-acd8-0975ac77a268",
   "metadata": {},
   "source": [
    "# Disaggregation processes with `gemsgrid`"
   ]
  },
  {
   "cell_type": "markdown",
   "id": "a8730ec5-9061-479d-b9c4-26019f98e194",
   "metadata": {},
   "source": [
    "## Table of Contents\n",
    "* [Overview](#Overview)\n",
    "* [Prerequisites](#Prerequisites)\n",
    "* [Examples](#Examples)  \n"
   ]
  },
  {
   "cell_type": "markdown",
   "id": "7ba7df9f-f5a3-4551-8ba3-404ddef7b4f1",
   "metadata": {},
   "source": [
    "## Overview\n",
    "\n",
    "**Raster disaggregation** functionality allows to resample GEMS raster datasets from coarser to finer level (for example, from level 1 to level 2). A \"parent\" is defined as a pixel (or a grid point) of the coarser data, and all pixels of the finer level contained within a given \"parent\" are its \"children\". Number of children would be constant across space and would only depend on the refine ratio between the source and the target GEMS levels. \n",
    "\n",
    "**Vector disaggregation** functionality is meant to rasterize vector datasets to a specified GEMS level. In this case, a \"parent\" is a polygon, and \"children\" would be GEMS pixels inside the polygon. Number of children would NOT be constant across space; it will vary depending on the size of the polygon and the desired target GEMS level.\n",
    "\n",
    "The following 5 disaggregation options are supported for both raster and vector data:\n",
    "\n",
    "- option 1 - repeat parent value to all children\n",
    "- option 2 - divide parent value by the number of all children\n",
    "- option 3 - repeat parent value to valid children\n",
    "- option 4 - divide parent value by the number of valid children\n",
    "- option 5 - divide parent value by the number of valid children corresponding to multiple categories with different weights\n",
    "- option 6 - distribute parent value based on proportions from a “suitability” mask\n",
    "\n",
    "![Figure](disaggregation_options_6.png)"
   ]
  },
  {
   "cell_type": "markdown",
   "id": "8961368d-27cc-4dfc-83b8-26a0fb16e386",
   "metadata": {},
   "source": [
    "## Prerequisites\n",
    "**Software:**  Prepare your Python environment by installing `gemsgrid` package. Refer to a setup guide here: https://github.umn.edu/IAA/gems_grid/blob/master/README.md. Other required packages include :\n",
    "`geopandas`, `rasterio`, `rasterstats`, `shapely`, `numpy`, and `scipy`.  \n",
    "\n",
    "**Data:**\n",
    "- input vector data : needs to be in a .shp format;\n",
    "- input raster data : needs to be in a GeoTiff format; needs to be already projected to EASE and aligned with GEMS grid. Use `gemsgrid.warp_raster_to_gems` first if you need to align your data with GEMS grid.\n",
    "- input raster mask data : needs to be in a GeoTiff format; needs to be already projected to EASE and aligned with GEMS grid. GEMS level for mask data should be the same as the desired target level.\n",
    "\n",
    "**Required arguments:**\n",
    "\n",
    "| I want to use … | I start with … | Required arguments |\n",
    "| --------------- | --------------- | -------------------|\n",
    "| Option 1  | Vector data | <span style=\"color:blue\">input_type=\"vector_unmasked\"</span>; outrasterpath; <span style=\"color:red\">operation=\"repeat\"</span>; invectorpath; var; target_level; globalextent; (vectornodata) | \n",
    "| Option 1  | Raster data | <span style=\"color:blue\">input_type=\"raster_unmasked\"</span>; outrasterpath; <span style=\"color:red\">operation=\"repeat\"</span>; inrasterpath; source_level |\n",
    "| Option 2 | Vector data | <span style=\"color:blue\">input_type=\"vector_unmasked\"</span>; outrasterpath; <span style=\"color:red\">operation=\"divide\"</span>; invectorpath; var; target_level; globalextent; (vectornodata) | \n",
    "| Option 2 | Raster data | <span style=\"color:blue\">input_type=\"raster_unmasked\"</span>; outrasterpath; <span style=\"color:red\">operation=\"divide\"</span>; inrasterpath; source_level | \n",
    "| Option 3 | Vector data | <span style=\"color:blue\">input_type=\"vector_masked\"</span>; outrasterpath; <span style=\"color:red\">operation=\"repeat\"</span>; invectorpath; var; inmaskpath;  clip; <span style=\"color:green\">categories_dict (one category with 100% weight)</span>; (vectornodata) | \n",
    "| Option 3 | Raster data | <span style=\"color:blue\">input_type=\"raster_masked\"</span>; outrasterpath; <span style=\"color:red\">operation=\"repeat\"</span>; inrasterpath; source_level; inmaskpath; <span style=\"color:green\">categories_dict (one category with 100% weight)</span> | \n",
    "| Option 4 | Vector data | <span style=\"color:blue\">input_type=\"vector_masked\"</span>; outrasterpath; <span style=\"color:red\">operation=\"divide\"</span>; invectorpath; var; inmaskpath;  clip; <span style=\"color:green\">categories_dict (one category with 100% weight)</span>; (vectornodata) | \n",
    "| Option 4 | Raster data | <span style=\"color:blue\">input_type=\"raster_masked\"</span>; outrasterpath; <span style=\"color:red\">operation=\"divide\"</span>; inrasterpath; source_level; inmaskpath; <span style=\"color:green\">categories_dict (one category with 100% weight)</span> |\n",
    "| Option 5 | Vector data | <span style=\"color:blue\">input_type=\"vector_masked\"</span>; outrasterpath; <span style=\"color:red\">operation=\"divide\"</span>; invectorpath; var; inmaskpath; clip; <span style=\"color:green\">categories_dict (multiple categories with corresponsing weights)</span>; (vectornodata)| \n",
    "| Option 5 | Raster data | <span style=\"color:blue\">input_type=\"raster_masked\"</span>; outrasterpath; <span style=\"color:red\">operation=\"divide\"</span>; inrasterpath; source_level; inmaskpath; <span style=\"color:green\">categories_dict (multiple categories with corresponsing weights)</span> |\n",
    "| Option 6 | Vector data | <span style=\"color:blue\">input_type=\"vector_masked\"</span>; outrasterpath; <span style=\"color:red\">operation=\"distribute\"</span>; invectorpath; var; inmaskpath; clip; (vectornodata) | \n",
    "| Option 6 | Raster data | <span style=\"color:blue\">input_type=\"raster_masked\"</span>; outrasterpath; <span style=\"color:red\">operation=\"distribute\"</span>; inrasterpath; source_level; inmaskpath |\n",
    "\n",
    "**How to interpret arguments:**  \n",
    "\n",
    "| Argument | Type | Meaning |\n",
    "| --------- | ----- | ------ |\n",
    "| input_type |  str | Describes the type of input data (\"vector_unmasked\", \"vector_masked\", \"raster_unmasked\", \"raster_masked\") | \n",
    "| outrasterpath | str | Describes the path of the output raster file |\n",
    "| operation  | str | Defines allocation rule : operation == \"repeat\" - repeats parent value to children ; operation == \"divide\" - divides parent value by the number of children |\n",
    "| invectorpath | str | Describes the path of the input shapefile | \n",
    "| var | str | Column name from the attribute table that needs to be disaggregated |\n",
    "| target_level | int | Valid GEMS level, options are: 0, 1, 2, 3, 4, 5, 6 |\n",
    "| globalextent  | boolean | Specifies if vector data are global (globalextnet=True, otherwise globalextnet=False) |\n",
    "| inmaskpath  | str | Describes the path of the input mask file |\n",
    "| categories_dict |  dictionary | Describes conditions for masking and weight assigned to each category, required for \"divide\" and \"repeat\" operations | \n",
    "| clip  | boolean | Specifies if mask raster has substantially larger extent compared to the input vector data and needs to be clipped (clip=True, otherwise clip=False) | \n",
    "| inrasterpath | str | Describes the path of the input raster file |\n",
    "| source_level | int | Valid GEMS level of the original data, options are: 0, 1, 2, 3, 4, 5, 6 | \n",
    "| vectornodata | float or int | Value to store \"absence\" of data for rasters disaggregated from vector data; optional, defaults to -9999 | \n",
    "\n",
    "**How to create mask conditions:**\n",
    "- For options 3 and 4 use a dictionary with only 1 category with weight 100%.  \n",
    "Example: `categories_dict = {1:[\"mask==1\",100]}`  \n",
    "Multiple classes within the same category are also supported:  \n",
    "`categories_dict = {1:[\"(mask==1)|(mask==5)\",100]}`  \n",
    "- For option 5 use a dictionary with 2 or more categories and their corresponding weights:  \n",
    "Example: `categories_dict={1:[\"mask==1\",60],2:[\"mask==5\",40]}`  \n",
    "NOTE: the rules defined by the categories should not be overlapping, meaning each category should describe a unique set of pixels in the mask layer. For example, `mask==3` would not overlap with `mask>=5` but will overlap with `mask>=2`\n",
    "- use `|` operator to meet either condition. With `\"(mask==1)|(mask==5)\"` you will select pixels that equal to 1 or 5\n",
    "- use `&` operator to meet all condition. With `\"(mask>=24)&(mask<=67)\"` you will select pixels with values higher than 24 but lower than 67."
   ]
  },
  {
   "cell_type": "markdown",
   "id": "1b2d52f6-011a-40d4-9f68-4372f480e95b",
   "metadata": {},
   "source": [
    "## Examples"
   ]
  },
  {
   "cell_type": "markdown",
   "id": "01ffac60-63bd-4a1c-8d1e-3ea56e77b66f",
   "metadata": {},
   "source": [
    "### Option 1 with input vector data"
   ]
  },
  {
   "cell_type": "code",
   "execution_count": 1,
   "id": "41cd7bdf-c38d-4e67-b724-0c791eab4fb9",
   "metadata": {},
   "outputs": [
    {
     "name": "stdout",
     "output_type": "stream",
     "text": [
      "STEP 1 of 4: Open input file\n",
      "STEP 2 of 4: Generate geoproperties\n",
      "STEP 3 of 4: Produce disaggregated array\n",
      "STEP 4 of 4: Save disaggregated array to raster\n"
     ]
    }
   ],
   "source": [
    "from gemsgrid.processing_tools.disaggregate import disaggregate\n",
    "\n",
    "arguments = {\n",
    "    \"input_type\" : \"vector_unmasked\",\n",
    "    \"outrasterpath\": \"D:/data/disaggregation_data/from_vector/mn_county_ag_value_unmasked_repeat.tif\",\n",
    "    \"operation\": \"repeat\",\n",
    "    \"invectorpath\" : \"D:/data/disaggregation_data/from_vector/mn_county_ag_value.shp\",\n",
    "    \"var\" : \"valueperac\",\n",
    "    \"target_level\" : 4,\n",
    "    \"globalextent\" : False\n",
    "}\n",
    "\n",
    "disaggregate(**arguments)"
   ]
  },
  {
   "cell_type": "markdown",
   "id": "ce3e5a70-d987-4952-8b78-520a22481c12",
   "metadata": {},
   "source": [
    "\n",
    "### Option 2 with input vector data"
   ]
  },
  {
   "cell_type": "code",
   "execution_count": 2,
   "id": "c40c27ba-a542-4d6c-9848-b37737aa8a15",
   "metadata": {},
   "outputs": [
    {
     "name": "stdout",
     "output_type": "stream",
     "text": [
      "STEP 1 of 4: Open input file\n",
      "STEP 2 of 4: Generate geoproperties\n",
      "STEP 3 of 4: Produce disaggregated array\n",
      "STEP 4 of 4: Save disaggregated array to raster\n"
     ]
    }
   ],
   "source": [
    "from gemsgrid.processing_tools.disaggregate import disaggregate\n",
    "\n",
    "arguments = {\n",
    "    \"input_type\" : \"vector_unmasked\",\n",
    "    \"outrasterpath\": \"D:/data/disaggregation_data/from_vector/mn_county_ag_value_unmasked_divide.tif\",\n",
    "    \"operation\": \"divide\",\n",
    "    \"invectorpath\" : \"D:/data/disaggregation_data/from_vector/mn_county_ag_value.shp\",\n",
    "    \"var\" : \"totalvalue\",\n",
    "    \"target_level\" : 4,\n",
    "    \"globalextent\" : False\n",
    "}\n",
    "\n",
    "disaggregate(**arguments)"
   ]
  },
  {
   "cell_type": "markdown",
   "id": "d7506cdc-c994-4771-a883-7e005bdc0380",
   "metadata": {},
   "source": [
    "### Option 3 with input vector data"
   ]
  },
  {
   "cell_type": "code",
   "execution_count": 3,
   "id": "1c0c099e-5b28-4c1b-9fd7-827ac46dc8ad",
   "metadata": {},
   "outputs": [
    {
     "name": "stdout",
     "output_type": "stream",
     "text": [
      "STEP 1 of 4: Open input file\n",
      "STEP 2 of 4: Generate geoproperties\n",
      "STEP 3 of 4: Produce disaggregated array\n",
      "STEP 4 of 4: Save disaggregated array to raster\n"
     ]
    }
   ],
   "source": [
    "from gemsgrid.processing_tools.disaggregate import disaggregate\n",
    "\n",
    "arguments = {\n",
    "    \"input_type\" : \"vector_masked\",\n",
    "    \"outrasterpath\": \"D:/data/disaggregation_data/from_vector/mn_county_ag_value_masked_repeat.tif\",\n",
    "    \"operation\": \"repeat\",\n",
    "    \"invectorpath\" : \"D:/data/disaggregation_data/from_vector/mn_county_ag_value.shp\",\n",
    "    \"var\" : \"valueperac\",\n",
    "    \"inmaskpath\" : \"D:/data/disaggregation_data/from_vector/LCMAP_CU_2017_V12_LCPRI_l4.tif\",\n",
    "    \"categories_dict\" : {1:[\"mask==2\",100]},\n",
    "    \"clip\" : True\n",
    "}\n",
    "\n",
    "disaggregate(**arguments)"
   ]
  },
  {
   "cell_type": "markdown",
   "id": "c010b8d3-5de5-4244-a812-f0ae110e86b9",
   "metadata": {},
   "source": [
    "### Option 4 with input vector data"
   ]
  },
  {
   "cell_type": "code",
   "execution_count": 4,
   "id": "05fd58be-c7d9-419e-81e0-1c199b359c64",
   "metadata": {},
   "outputs": [
    {
     "name": "stdout",
     "output_type": "stream",
     "text": [
      "STEP 1 of 4: Open input file\n",
      "STEP 2 of 4: Generate geoproperties\n",
      "STEP 3 of 4: Produce disaggregated array\n",
      "STEP 4 of 4: Save disaggregated array to raster\n"
     ]
    }
   ],
   "source": [
    "from gemsgrid.processing_tools.disaggregate import disaggregate\n",
    "\n",
    "arguments = {\n",
    "    \"input_type\" : \"vector_masked\",\n",
    "    \"outrasterpath\": \"D:/data/disaggregation_data/from_vector/mn_county_ag_value_masked_divide_1categ.tif\",\n",
    "    \"operation\": \"divide\",\n",
    "    \"invectorpath\" : \"D:/data/disaggregation_data/from_vector/mn_county_ag_value.shp\",\n",
    "    \"var\" : \"totalvalue\",\n",
    "    \"inmaskpath\" : \"D:/data/disaggregation_data/from_vector/LCMAP_CU_2017_V12_LCPRI_l4.tif\",\n",
    "    \"clip\" : True,\n",
    "    \"categories_dict\" : {1:[\"mask==2\",100]}\n",
    "}\n",
    "\n",
    "disaggregate(**arguments)"
   ]
  },
  {
   "cell_type": "markdown",
   "id": "fa1d5492-26a7-4830-9f70-7169f634d36d",
   "metadata": {},
   "source": [
    "\n",
    "### Option 5 with input vector data"
   ]
  },
  {
   "cell_type": "code",
   "execution_count": 5,
   "id": "a808bd3b-807a-489f-a0b5-015a3a3e1e2f",
   "metadata": {},
   "outputs": [
    {
     "name": "stdout",
     "output_type": "stream",
     "text": [
      "STEP 1 of 4: Open input file\n",
      "STEP 2 of 4: Generate geoproperties\n",
      "STEP 3 of 4: Produce disaggregated array\n",
      "STEP 4 of 4: Save disaggregated array to raster\n"
     ]
    }
   ],
   "source": [
    "from gemsgrid.processing_tools.disaggregate import disaggregate\n",
    "\n",
    "arguments = {\n",
    "    \"input_type\" : \"vector_masked\",\n",
    "    \"outrasterpath\": \"D:/data/disaggregation_data/from_vector/mn_county_ag_value_masked_divide_2categ.tif\",\n",
    "    \"operation\": \"divide\",\n",
    "    \"invectorpath\" : \"D:/data/disaggregation_data/from_vector/mn_county_ag_value.shp\",\n",
    "    \"var\" : \"totalvalue\",\n",
    "    \"inmaskpath\" : \"D:/data/disaggregation_data/from_vector/LCMAP_CU_2017_V12_LCPRI_l4.tif\",\n",
    "    \"clip\" : True,\n",
    "    \"categories_dict\" : {1 : [\"mask == 2\", 97], 2 : [\"mask == 3\", 3]}\n",
    "}\n",
    "\n",
    "disaggregate(**arguments)"
   ]
  },
  {
   "cell_type": "markdown",
   "id": "18e63e92-999d-4732-aa58-6f4c9178c98d",
   "metadata": {},
   "source": [
    "### Option 6 with input vector data"
   ]
  },
  {
   "cell_type": "code",
   "execution_count": 6,
   "id": "a7dce95d-4f1f-45ca-94a9-1c30a387d554",
   "metadata": {},
   "outputs": [
    {
     "name": "stdout",
     "output_type": "stream",
     "text": [
      "STEP 1 of 4: Open input file\n",
      "STEP 2 of 4: Generate geoproperties\n",
      "STEP 3 of 4: Produce disaggregated array\n",
      "STEP 4 of 4: Save disaggregated array to raster\n"
     ]
    }
   ],
   "source": [
    "from gemsgrid.processing_tools.disaggregate import disaggregate\n",
    "\n",
    "arguments = {\n",
    "    \"input_type\" : \"vector_masked\",\n",
    "    \"outrasterpath\": \"D:/data/disaggregation_data/from_vector/mn_county_ag_value_distributed.tif\",\n",
    "    \"operation\": \"distribute\",\n",
    "    \"invectorpath\" : \"D:/data/disaggregation_data/from_vector/mn_county_ag_value.shp\",\n",
    "    \"var\" : \"totalvalue\",\n",
    "    \"inmaskpath\" : \"D:/data/disaggregation_data/from_vector/mn_crop_productivity.tif\",\n",
    "    \"clip\" : True\n",
    "}\n",
    "\n",
    "disaggregate(**arguments)"
   ]
  },
  {
   "cell_type": "markdown",
   "id": "5939c178-2174-404e-a0f8-05cbd6d1f96a",
   "metadata": {},
   "source": [
    "### Option 1 with input raster data"
   ]
  },
  {
   "cell_type": "code",
   "execution_count": 7,
   "id": "71c154ba-4785-4a0e-9666-609a945914d9",
   "metadata": {
    "tags": []
   },
   "outputs": [
    {
     "name": "stdout",
     "output_type": "stream",
     "text": [
      "STEP 1 of 4: Open input file\n",
      "STEP 2 of 4: Generate geoproperties\n",
      "STEP 3 of 4: Produce disaggregated array\n",
      "STEP 4 of 4: Save disaggregated array to raster\n"
     ]
    }
   ],
   "source": [
    "from gemsgrid.processing_tools.disaggregate import disaggregate\n",
    "\n",
    "arguments = {\n",
    "    \"input_type\" : \"raster_unmasked\",\n",
    "    \"outrasterpath\": \"D:/data/disaggregation_data/from_raster/asia_production_perhectare_l2_unmasked_repeat.tif\",\n",
    "    \"operation\": \"repeat\",\n",
    "    \"inrasterpath\" : \"D:/data/disaggregation_data/from_raster/asia_production_perhectare_l1.tif\",\n",
    "    \"source_level\" : 1\n",
    "}\n",
    "\n",
    "disaggregate(**arguments)"
   ]
  },
  {
   "cell_type": "markdown",
   "id": "c37d4718-9601-44e5-83a4-38a0a7168458",
   "metadata": {},
   "source": [
    "### Option 2 with input raster data"
   ]
  },
  {
   "cell_type": "code",
   "execution_count": 8,
   "id": "84b47a64-08d1-4cbb-876b-77f85f82d12d",
   "metadata": {},
   "outputs": [
    {
     "name": "stdout",
     "output_type": "stream",
     "text": [
      "STEP 1 of 4: Open input file\n",
      "STEP 2 of 4: Generate geoproperties\n",
      "STEP 3 of 4: Produce disaggregated array\n",
      "STEP 4 of 4: Save disaggregated array to raster\n"
     ]
    }
   ],
   "source": [
    "from gemsgrid.processing_tools.disaggregate import disaggregate\n",
    "\n",
    "arguments = {\n",
    "    \"input_type\" : \"raster_unmasked\",\n",
    "    \"outrasterpath\": \"D:/data/disaggregation_data/from_raster/asia_production_total_l2_unmasked_divide.tif\",\n",
    "    \"operation\": \"divide\",\n",
    "    \"inrasterpath\" : \"D:/data/disaggregation_data/from_raster/asia_production_total_l1.tif\",\n",
    "    \"source_level\" : 1\n",
    "}\n",
    "\n",
    "disaggregate(**arguments)"
   ]
  },
  {
   "cell_type": "markdown",
   "id": "473267f5-323a-4707-a6db-81c1bbbdb0c2",
   "metadata": {},
   "source": [
    "### Option 3 with input raster data"
   ]
  },
  {
   "cell_type": "code",
   "execution_count": 9,
   "id": "fab3d147-342e-48e3-b8f7-23f5edb52c04",
   "metadata": {},
   "outputs": [
    {
     "name": "stdout",
     "output_type": "stream",
     "text": [
      "STEP 1 of 4: Open input file\n",
      "STEP 2 of 4: Generate geoproperties\n",
      "STEP 3 of 4: Produce disaggregated array\n",
      "STEP 4 of 4: Save disaggregated array to raster\n"
     ]
    }
   ],
   "source": [
    "from gemsgrid.processing_tools.disaggregate import disaggregate\n",
    "\n",
    "arguments = {\n",
    "    \"input_type\" : \"raster_masked\",\n",
    "    \"outrasterpath\": \"D:/data/disaggregation_data/from_raster/asia_production_perhectare_l2_masked_repeat.tif\",\n",
    "    \"operation\": \"repeat\",\n",
    "    \"inrasterpath\" : \"D:/data/disaggregation_data/from_raster/asia_production_perhectare_l1.tif\",\n",
    "    \"source_level\" : 1,\n",
    "    \"inmaskpath\": \"D:/data/disaggregation_data/from_raster/GFSAD1KCM.2010.001.2016348142550_l2.tif\",\n",
    "    \"categories_dict\": {1 : [\"(mask == 1) | (mask == 2)| (mask == 3) | (mask == 4) | (mask == 5)\", 100]}\n",
    "}\n",
    "\n",
    "disaggregate(**arguments)"
   ]
  },
  {
   "cell_type": "markdown",
   "id": "15f29c38-e436-481c-861b-05fa4afd7729",
   "metadata": {},
   "source": [
    "### Option 4 with input raster data"
   ]
  },
  {
   "cell_type": "code",
   "execution_count": 10,
   "id": "1f301278-5b09-4f1e-926e-4a87f0239d70",
   "metadata": {},
   "outputs": [
    {
     "name": "stdout",
     "output_type": "stream",
     "text": [
      "STEP 1 of 4: Open input file\n",
      "STEP 2 of 4: Generate geoproperties\n",
      "STEP 3 of 4: Produce disaggregated array\n",
      "STEP 4 of 4: Save disaggregated array to raster\n"
     ]
    }
   ],
   "source": [
    "from gemsgrid.processing_tools.disaggregate import disaggregate\n",
    "\n",
    "arguments = {\n",
    "    \"input_type\" : \"raster_masked\",\n",
    "    \"outrasterpath\": \"D:/data/disaggregation_data/from_raster/asia_production_total_l2_masked_divide_1categ.tif\",\n",
    "    \"operation\": \"divide\",\n",
    "    \"inrasterpath\" : \"D:/data/disaggregation_data/from_raster/asia_production_total_l1.tif\",\n",
    "    \"source_level\" : 1,\n",
    "    \"inmaskpath\": \"D:/data/disaggregation_data/from_raster/GFSAD1KCM.2010.001.2016348142550_l2.tif\",\n",
    "    \"categories_dict\": {1 : [\"(mask == 1) | (mask == 2)| (mask == 3) | (mask == 4) | (mask == 5)\", 100]}\n",
    "}\n",
    "\n",
    "disaggregate(**arguments)"
   ]
  },
  {
   "cell_type": "markdown",
   "id": "9a77926b-ca5f-48b8-811b-d78f2fe72785",
   "metadata": {},
   "source": [
    "### Option 5 with input raster data"
   ]
  },
  {
   "cell_type": "code",
   "execution_count": 11,
   "id": "4333444e-977f-4da1-b3be-79c85298c64d",
   "metadata": {},
   "outputs": [
    {
     "name": "stdout",
     "output_type": "stream",
     "text": [
      "STEP 1 of 4: Open input file\n",
      "STEP 2 of 4: Generate geoproperties\n",
      "STEP 3 of 4: Produce disaggregated array\n",
      "STEP 4 of 4: Save disaggregated array to raster\n"
     ]
    }
   ],
   "source": [
    "from gemsgrid.processing_tools.disaggregate import disaggregate\n",
    "\n",
    "arguments = {\n",
    "    \"input_type\" : \"raster_masked\",\n",
    "    \"outrasterpath\": \"D:/data/disaggregation_data/from_raster/asia_production_total_l2_masked_divide_2categ.tif\",\n",
    "    \"operation\": \"divide\",\n",
    "    \"inrasterpath\" : \"D:/data/disaggregation_data/from_raster/asia_production_total_l1.tif\",\n",
    "    \"source_level\" : 1,\n",
    "    \"inmaskpath\": \"D:/data/disaggregation_data/from_raster/GFSAD1KCM.2010.001.2016348142550_l2.tif\",\n",
    "    \"categories_dict\": {1 : [\"(mask == 1) | (mask == 2)\", 40], 2: [\"(mask == 3) | (mask == 4) | (mask == 5)\", 60]}\n",
    "}\n",
    "\n",
    "disaggregate(**arguments)"
   ]
  },
  {
   "cell_type": "markdown",
   "id": "c5875779-5c6c-4efd-b968-4cd9d8ee7403",
   "metadata": {},
   "source": [
    "### Option 6 with input raster data"
   ]
  },
  {
   "cell_type": "code",
   "execution_count": 12,
   "id": "4de6903a-2d3c-4965-8a21-47a7a6522519",
   "metadata": {},
   "outputs": [
    {
     "name": "stdout",
     "output_type": "stream",
     "text": [
      "STEP 1 of 4: Open input file\n",
      "STEP 2 of 4: Generate geoproperties\n",
      "STEP 3 of 4: Produce disaggregated array\n",
      "STEP 4 of 4: Save disaggregated array to raster\n"
     ]
    }
   ],
   "source": [
    "from gemsgrid.processing_tools.disaggregate import disaggregate\n",
    "\n",
    "arguments = {\n",
    "    \"input_type\" : \"raster_masked\",\n",
    "    \"outrasterpath\": \"D:/data/disaggregation_data/from_raster/asia_production_total_l2_distributed.tif\",\n",
    "    \"operation\": \"distribute\",\n",
    "    \"inrasterpath\" : \"D:/data/disaggregation_data/from_raster/asia_production_total_l1.tif\",\n",
    "    \"source_level\" : 1,\n",
    "    \"inmaskpath\": \"D:/data/disaggregation_data/from_raster/AWCh2_M_sl6_250m_ll_l2.tif\",\n",
    "}\n",
    "\n",
    "disaggregate(**arguments)"
   ]
  },
  {
   "cell_type": "code",
   "execution_count": null,
   "id": "46fa20a8-cd22-4e23-9ece-870fa333e15a",
   "metadata": {},
   "outputs": [],
   "source": []
  }
 ],
 "metadata": {
  "kernelspec": {
   "display_name": "Python 3 (ipykernel)",
   "language": "python",
   "name": "python3"
  },
  "language_info": {
   "codemirror_mode": {
    "name": "ipython",
    "version": 3
   },
   "file_extension": ".py",
   "mimetype": "text/x-python",
   "name": "python",
   "nbconvert_exporter": "python",
   "pygments_lexer": "ipython3",
   "version": "3.9.12"
  }
 },
 "nbformat": 4,
 "nbformat_minor": 5
}
