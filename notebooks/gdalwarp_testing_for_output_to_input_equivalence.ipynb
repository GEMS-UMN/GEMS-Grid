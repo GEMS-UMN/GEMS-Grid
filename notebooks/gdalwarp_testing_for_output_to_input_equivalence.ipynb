{
 "cells": [
  {
   "cell_type": "markdown",
   "id": "e7d1f8b4",
   "metadata": {},
   "source": [
    "# getting data onto GEMS grid\n",
    "\n",
    "this notebook exists to document the exploration of methods for getting data onto the GEMS grid. Focus here is predominanatly on getting raster data to the GEMS grid. Following Jensen (2005) there are two basic models for converting rasters:\n",
    "  1. Input-to-Out Model: In this model, the transformation are done in the forward direction. All coordinates in the source cooridnate system are transformed to the target system, and then the target raster is created using those points and data. This can be thought of as a 'push' or 'put' type model. The challenge with this model is how to deal with the fact that once coordinates are converted to target, they may not align  with target cells (e.g. raster index 5, 2 maps to a cell boundary in the output)\n",
    "  2. Output-to-input model: In this model, the transformations are done in the reverse direction. Dimensions of the output are created, and essentially the mapping is backwards. Coordinates in the output raster are used to identify cooresponding coordinates in the input raster. Often combined with 'nearest neighbor' operations. This can be thought of as a 'pull' or 'get' type of model. The disadvanted here has generally been that that output grid must be known or created in advance. \n",
    "  \n",
    "Many of the tools (e.g. GDAL, ESRI projection toolkit) generally operate in the forward model. Input images and metadata are used with analyst input to create the target raster, and data are pushed through the process in the forward direction. \n",
    "\n",
    "Options like ESRI's 'snap to raster' give the ability to ensure that output grids are all consistent, thereby enabling stacking of grids etc. Mechanism there is unclear, but results are akin to the `output-to-input` model above. \n",
    "\n",
    "In this notebook, the aim is to investigate standard open source tools (gdal mainly) to see how we might generate output rasters using a process that is more similar to the `output-to-input` model. A challenge with these tools is that grids are almost always tansformed using an affine model, from the upper left corner of the input, with output image dimensiond derived from analyst input. The result is often an output raster that  imperfectly aligns with the GEMS grid.\n",
    "\n",
    "Consider the current process that generated the GEMS grid version of the Sacks crop calendar. The input is global in extent, and cutting the inputs down to match the GEMS grid extent introduces challenges. Either the image dimensions don't match (e.g. are more rows/columns in output raster than allowable) or the corners or centroids don't align perfectly. For example, the current Sacks tifs have these properties:\n",
    "\n",
    "      Corner Coordinates\n",
    "      Upper Left  (-17367530.445, 7314540.831) (180d 0' 0.00\"W, 85d 2'40.44\"N)\n",
    "      Lower Left  (-17367530.445,-7314540.830) (180d 0' 0.00\"W, 85d 2'40.44\"S)\n",
    "      Upper Right (17367530.445, 7314540.831) (180d 0' 0.00\"E, 85d 2'40.44\"N)\n",
    "      Lower Right (17367530.445,-7314540.830) (180d 0' 0.00\"E, 85d 2'40.44\"S)\n",
    "      Center      (  -0.0002814,   0.0000334) (  0d 0' 0.00\"W,  0d 0' 0.00\"N)\n",
    "\n",
    "While the corners align nicely, note that the center of the image is slightly different from 0, certainly its within rounding, but this has the potential to cause data alignment issues.\n",
    "\n",
    "`gdalwarp` has several options that might be useful here, allowing us to avoid writing our own `output-to-input` algorythm.\n"
   ]
  },
  {
   "cell_type": "markdown",
   "id": "8362bc58",
   "metadata": {},
   "source": [
    "\n",
    "`-te` : target extent. This is useful for getting the target bounding box extents. Used alone, it can result in misaligned grid centers. For example, using gdal with `-te` alone on the Sacks data results in these properties:\n",
    "\n",
    "      Corner Coordinates\n",
    "      Upper Left  (-17367530.445, 7314540.831) (180d 0' 0.00\"W, 85d 2'40.44\"N)\n",
    "      Lower Left  (-17367530.445,-7314540.830) (180d 0' 0.00\"W, 85d 2'40.44\"S)\n",
    "      Upper Right (17367530.445, 7314540.831) (180d 0' 0.00\"E, 85d 2'40.44\"N)\n",
    "      Lower Right (17367530.445,-7314540.830) (180d 0' 0.00\"E, 85d 2'40.44\"S)\n",
    "      Center      (  -0.0002814,   0.0000334) (  0d 0' 0.00\"W,  0d 0' 0.00\"N)\n",
    "      \n",
    "Note the process used to arrive at these grids are not quite identical, they generate the same coords.\n",
    "\n"
   ]
  },
  {
   "cell_type": "markdown",
   "id": "3ebe964c",
   "metadata": {},
   "source": [
    "### Note:\n",
    "The usual way `te` expects data are:\n",
    "`te minx miny maxx maxy`\n",
    "\n",
    "Below, this is not followed, but notice the `tr` (target resolution) argument has a `-` for the `yres` component. This allows for specifiying the options as they might come though in a NetCDF, where the coords are specified in the inverse direction (data often come sorted lowest to highest, but the convention for mapping is North is up, which are positive, and often the vectors are ordered highest to lowest)"
   ]
  },
  {
   "cell_type": "markdown",
   "id": "e3413346",
   "metadata": {},
   "source": [
    "#### example command with `te` is:\n",
    "```\n",
    "gdalwarp -s_srs EPSG:4326 -t_srs EPSG:6933 -te -17367530.445161372 7314540.830638504 17367530.445161372 -7314540.830638504 -tr 9008.05521 -9008.05521 -r near -of GTiff -overwrite NETCDF:\"Maize.crop.calendar.nc\":harvest maize_warp_tap_2022_02_15.tif\n",
    "```"
   ]
  },
  {
   "cell_type": "markdown",
   "id": "fb44a5e4",
   "metadata": {},
   "source": [
    "`-tap` : target aligned pixels. This can be used to generate grids which have perfect alignment at the center. Per the documentation, this ensures that coordinate extents are included in the grid. When testing with Sacks calendar, this seemed to have the effect of adding additional two addional columns to the raster.\n",
    "\n",
    "      Corner Coordinates:\n",
    "      Upper Left  (-17376538.500,-7314540.831) (179d54'23.90\"E, 85d 2'40.44\"S)\n",
    "      Lower Left  (-17376538.500, 7314540.831) (179d54'23.90\"E, 85d 2'40.44\"N)\n",
    "      Upper Right (17376538.500,-7314540.831) (179d54'23.90\"W, 85d 2'40.44\"S)\n",
    "      Lower Right (17376538.500, 7314540.831) (179d54'23.90\"W, 85d 2'40.44\"N)\n",
    "      Center      (   0.0000000,   0.0000000) (  0d 0' 0.01\"E,  0d 0' 0.01\"N)"
   ]
  },
  {
   "cell_type": "markdown",
   "id": "83cb6936",
   "metadata": {},
   "source": [
    "#### example command with `te` and `tap`\n",
    "```\n",
    "gdalwarp -s_srs EPSG:4326 -t_srs EPSG:6933 -te -17367530.445161372 7314540.830638504 17367530.445161372 -7314540.830638504 -tr 9008.05521 -9008.05521 -r near -of GTiff -tap --overwrite NETCDF:\"Maize.crop.calendar.nc\":harvest maize_warp_tap_2022_02_15.tif\n",
    "```"
   ]
  },
  {
   "cell_type": "markdown",
   "id": "2bc3876f",
   "metadata": {},
   "source": []
  },
  {
   "cell_type": "markdown",
   "id": "f5b56285",
   "metadata": {},
   "source": [
    "### removing excess columns \n",
    "\n",
    "The `tap` option and expectations are not really well described. In the case above when used in conjuntion with `te` is seems to expand the row count by two pixels (left/right). The problem is, the then causes the grid extents to wrap around:\n",
    "\n",
    "      Corner Coordinates:\n",
    "      Upper Left  (-17376538.500, 7323548.886) (179d54'23.90\"E, 85d55'48.45\"N)\n",
    "      Lower Left  (-17376538.500,-7323548.886) (179d54'23.90\"E, 85d55'48.45\"S)\n",
    "      Upper Right (17376538.500, 7323548.886) (179d54'23.90\"W, 85d55'48.45\"N)\n",
    "      Lower Right (17376538.500,-7323548.886) (179d54'23.90\"W, 85d55'48.45\"S)\n",
    "      Center      (   0.0000000,   0.0000000) (  0d 0' 0.01\"E,  0d 0' 0.01\"N)\n",
    "      \n",
    "Note that rather than having a left boundaries that corrspond to ~ -180.0 degrees, we've entered positive territory again. Effectively, we've wrapped around the edge of the edge of the flat map. "
   ]
  },
  {
   "cell_type": "code",
   "execution_count": 5,
   "id": "c8a70ff8",
   "metadata": {},
   "outputs": [
    {
     "data": {
      "text/plain": [
       "(dict_keys(['min_x', 'min_y', 'max_x', 'max_y', 'min_lon', 'min_lat', 'max_lon', 'max_lat']),\n",
       " dict_keys(['0', '1', '2', '3', '4', '5', '6']))"
      ]
     },
     "execution_count": 5,
     "metadata": {},
     "output_type": "execute_result"
    }
   ],
   "source": [
    "from gems_grid_lib import grid_dict, level_dict\n",
    "grid_dict.keys(), level_dict.keys()\n"
   ]
  },
  {
   "cell_type": "markdown",
   "id": "31e5a953",
   "metadata": {},
   "source": [
    "### find extent for equivalent of removing 1 pixel each side"
   ]
  },
  {
   "cell_type": "code",
   "execution_count": 7,
   "id": "9cbf5bab",
   "metadata": {},
   "outputs": [
    {
     "data": {
      "text/plain": [
       "-17358522.38995137"
      ]
     },
     "execution_count": 7,
     "metadata": {},
     "output_type": "execute_result"
    }
   ],
   "source": [
    "grid_dict['min_x'] + level_dict['1']['x_length']\n",
    "\n"
   ]
  },
  {
   "cell_type": "markdown",
   "id": "1adc7d25",
   "metadata": {},
   "source": [
    "#### example code is:\n",
    "```\n",
    "gdalwarp -s_srs EPSG:4326 -t_srs EPSG:6933 -te -17358522.38995137 7314540.830638504 17358522.38995137 -7314540.830638504 -tr 9008.05521 -9008.05521 -r near -of GTiff -tap -overwrite NETCDF:\"Maize.crop.calendar.nc\":harvest maize_warp_tap_te_adjust_2022_02_16.tif\n",
    "```"
   ]
  },
  {
   "cell_type": "markdown",
   "id": "7bb621a0",
   "metadata": {},
   "source": [
    "This results in raster with following properties:\n",
    "\n",
    "      Data axis to CRS axis mapping: 1,2\n",
    "      Origin = (-17367530.444880001246929,7314540.830520000308752)\n",
    "      Pixel Size = (9008.055210000000443,-9008.055210000000443)\n",
    "      \n",
    "      ...\n",
    "      \n",
    "      Corner Coordinates:\n",
    "      Upper Left  (-17367530.445, 7323548.886) (180d 0' 0.00\"W, 85d55'48.45\"N)\n",
    "      Lower Left  (-17367530.445,-7323548.886) (180d 0' 0.00\"W, 85d55'48.45\"S)\n",
    "      Upper Right (17367530.445, 7323548.886) (180d 0' 0.00\"E, 85d55'48.45\"N)\n",
    "      Lower Right (17367530.445,-7323548.886) (180d 0' 0.00\"E, 85d55'48.45\"S)\n",
    "      Center      (   0.0000000,   0.0000000) (  0d 0' 0.01\"E,  0d 0' 0.01\"N)\n"
   ]
  },
  {
   "cell_type": "code",
   "execution_count": 11,
   "id": "e181ef50",
   "metadata": {},
   "outputs": [
    {
     "name": "stdout",
     "output_type": "stream",
     "text": [
      "origin from GEMS grid dictionary: \t-17367530.445161372, 7314540.830638504\n"
     ]
    }
   ],
   "source": [
    "print('origin from GEMS grid dictionary: \\t{}, {}'.format(grid_dict['min_x'], grid_dict['max_y']))"
   ]
  },
  {
   "cell_type": "markdown",
   "id": "46746f7a",
   "metadata": {},
   "source": [
    "#### now I need to get rid of the top/bottom rows\n",
    "\n",
    "that is grid dimensions don't match. and only get (rounded) agreement down to 3rd sig fig"
   ]
  },
  {
   "cell_type": "code",
   "execution_count": 10,
   "id": "7e78f927",
   "metadata": {},
   "outputs": [
    {
     "data": {
      "text/plain": [
       "-7305532.775428504"
      ]
     },
     "execution_count": 10,
     "metadata": {},
     "output_type": "execute_result"
    }
   ],
   "source": [
    "grid_dict['min_y'] + level_dict['1']['y_length']"
   ]
  },
  {
   "cell_type": "markdown",
   "id": "c0a1dffa",
   "metadata": {},
   "source": [
    "### results now match somewhat better\n",
    "      Size is 3856, 1624\n",
    "      ...\n",
    "      \n",
    "      Origin = (-17367530.444880001246929,7314540.830520000308752)\n",
    "      Pixel Size = (9008.055210000000443,-9008.055210000000443)\n",
    "      ...\n",
    "      \n",
    "      Corner Coordinates:\n",
    "      Upper Left  (-17367530.445, 7314540.831) (180d 0' 0.00\"W, 85d 2'40.44\"N)\n",
    "      Lower Left  (-17367530.445,-7314540.831) (180d 0' 0.00\"W, 85d 2'40.44\"S)\n",
    "      Upper Right (17367530.445, 7314540.831) (180d 0' 0.00\"E, 85d 2'40.44\"N)\n",
    "      Lower Right (17367530.445,-7314540.831) (180d 0' 0.00\"E, 85d 2'40.44\"S)\n",
    "      Center      (   0.0000000,   0.0000000) (  0d 0' 0.01\"E,  0d 0' 0.01\"N)"
   ]
  },
  {
   "cell_type": "code",
   "execution_count": 12,
   "id": "4fcdedfa",
   "metadata": {},
   "outputs": [
    {
     "name": "stdout",
     "output_type": "stream",
     "text": [
      "origin from GEMS grid dictionary: \t-17367530.445161372, 7314540.830638504\n"
     ]
    }
   ],
   "source": [
    "print('origin from GEMS grid dictionary: \\t{}, {}'.format(grid_dict['min_x'], grid_dict['max_y']))"
   ]
  },
  {
   "cell_type": "markdown",
   "id": "a4ad151f",
   "metadata": {},
   "source": [
    "## results seem reasonable\n",
    "\n",
    "these are reasonable, and do suggest a potential way forward. algorithm could look like:\n",
    " + find geographic extents\n",
    " + convert to EASE v2\n",
    " + identify the extent at GEMS grid level\n",
    " + shrink that grid by one row/column on all sides\n",
    " + warp using `te` with smaller extent\n",
    " + aligment of other grids accomplished with `tap`\n",
    " \n",
    "questions to investigate:\n",
    "  + above is a symetric example, centered at 0,0. What does the MN case (e.g. David's water quaility data) look like in terms of alignment?\n",
    "  + are there implications when coordinate data are rounded? if so, how to deal with it? \n",
    "  + how to deal with the mosaic issue? david's process is one of mosaic then grid.\n",
    "  \n",
    "So the `gdalwarp -te -tap` process seems to emulate a pull, but a true pull, output-to-input algorithm might alleviate some of this all together? not clear how a mosaic is handled there\n"
   ]
  },
  {
   "cell_type": "markdown",
   "id": "091e954a",
   "metadata": {},
   "source": [
    "## true output-to-input\n",
    "\n",
    "using the `-to` option, can set `bDstToSrc=True` and this will actually do the transformation using an output-to-input algorithm"
   ]
  },
  {
   "cell_type": "markdown",
   "id": "b0b91c6d",
   "metadata": {},
   "source": [
    "big question here: the symetrical answer is easy to test. how to test other responses: use `pyproj.Transform` to do the math, then figure out what the responses look like via `gdalwarp`?\n",
    "  + can certainly generate a couple examples to test. what is a reasonable proceess there?\n",
    "     + pick a random row, column. take a fixed buffer from there. should be able to calcualte the raster extent. convert to geos, then work through the code to project? \n",
    "     + pick a semi random number of sides, with a 'diamter', then do similar to above? \n",
    "\n",
    "  + pick some real shapes, solve independelty, then those as the test solutions?"
   ]
  },
  {
   "cell_type": "code",
   "execution_count": null,
   "id": "542bc29a",
   "metadata": {},
   "outputs": [],
   "source": []
  },
  {
   "cell_type": "code",
   "execution_count": null,
   "id": "3a9a87b9",
   "metadata": {},
   "outputs": [],
   "source": []
  }
 ],
 "metadata": {
  "kernelspec": {
   "display_name": "Python [conda env:iaa-analytics] *",
   "language": "python",
   "name": "conda-env-iaa-analytics-py"
  },
  "language_info": {
   "codemirror_mode": {
    "name": "ipython",
    "version": 3
   },
   "file_extension": ".py",
   "mimetype": "text/x-python",
   "name": "python",
   "nbconvert_exporter": "python",
   "pygments_lexer": "ipython3",
   "version": "3.9.9"
  }
 },
 "nbformat": 4,
 "nbformat_minor": 5
}
